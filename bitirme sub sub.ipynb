{
 "cells": [
  {
   "cell_type": "code",
   "execution_count": 1,
   "id": "11bd3dd3",
   "metadata": {},
   "outputs": [],
   "source": [
    "from ahpy import ahpy\n",
    "from ahpy import Compare\n",
    "from ahpy import Compose\n",
    "\n",
    "\n",
    "import numpy as np\n",
    "import pandas as pd \n",
    "\n",
    "import pytest\n",
    "import itertools"
   ]
  },
  {
   "cell_type": "code",
   "execution_count": 5,
   "id": "42e87e99",
   "metadata": {},
   "outputs": [
    {
     "name": "stdout",
     "output_type": "stream",
     "text": [
      "{'Price': 0.402, 'Style': 0.301, 'Comfort': 0.214, 'MPG': 0.083}\n",
      "{'Purchase': 0.607, 'Fuel': 0.238, 'Maintanence': 0.155}\n",
      "Consistency ratio for price subcriteria = 0.477\n",
      "Consistency ratio = 0.074\n",
      "Consistency ratio for maintenance subcriteria = 0.11\n"
     ]
    }
   ],
   "source": [
    "def m(elements, judgments):\n",
    "     return dict(zip(elements, judgments))\n",
    "\n",
    "\n",
    "cri = ('Price', 'MPG', 'Comfort', 'Style')\n",
    "c_cri = list(itertools.combinations(cri, 2))\n",
    "criteria = ahpy.Compare('Criteria', m(c_cri, (3, 2, 2, 1/4, 1/4, 1/2)), precision = 3)\n",
    "\n",
    "alt = ('Accord', 'Saturn', 'Cavalier')\n",
    "pairs = list(itertools.combinations(alt, 2))\n",
    "\n",
    "price = ('Purchase', 'Fuel' , 'Maintanence')\n",
    "p_pairs = list(itertools.combinations(price, 2))\n",
    "price = ahpy.Compare('Price', m(p_pairs, (5, 2 ,3)),precision=3)\n",
    "         \n",
    "price_purchase_m = (4,3,2)\n",
    "price_purchase = ahpy.Compare(\"Purchase\",m(pairs,price_purchase_m) , 3)\n",
    "\n",
    "price_fuel_m = (3,4,1/2)\n",
    "price_fuel = ahpy.Compare(\"Fuel\",m(pairs , price_fuel_m) , 3)\n",
    "         \n",
    "price_maint_m = (1/2 ,3,4)\n",
    "price_maint = ahpy.Compare(\"Maintanence\", m(pairs , price_maint_m) , 3)\n",
    "\n",
    "maint = (\"PM\",\"CM\",\"TPM\")\n",
    "m_pairs = list(itertools.combinations(maint,2))\n",
    "maint = ahpy.Compare(\"Maintanence\",m(m_pairs , (4,3,2)),3)\n",
    "\n",
    "maint_pm_m = (3,2,2)\n",
    "maint_pm = ahpy.Compare(\"PM\",m(pairs,maint_pm_m),3)\n",
    "\n",
    "maint_cm_m = (3,2,2)\n",
    "maint_cm = ahpy.Compare(\"CM\",m(pairs,maint_cm_m),3)\n",
    "\n",
    "maint_tpm_m = (3,2,2)\n",
    "maint_tpm = ahpy.Compare(\"TPM\",m(pairs,maint_tpm_m),3)\n",
    "\n",
    "mpg_m = (1/4 , 1/6 , 1/3)\n",
    "mpg = ahpy.Compare(\"MPG\", m(pairs , mpg_m) , 3)\n",
    "        \n",
    "comfort_m = (2,8,6)\n",
    "comfort = ahpy.Compare(\"Comfort\", m(pairs , comfort_m) , 3)\n",
    "         \n",
    "style_m = (1/3 , 4,7)\n",
    "style = ahpy.Compare(\"Style\", m(pairs , style_m) , 3)\n",
    "         \n",
    "         \n",
    "compose = ahpy.Compose()\n",
    "compose.add_comparisons(\"Criteria\" , m(c_cri,(3, 2, 2, 1/4, 1/4, 1/2)) ,3)\n",
    "compose.add_comparisons([price])\n",
    "compose.add_comparisons([price_fuel, price_maint, price_purchase])\n",
    "compose.add_comparisons([(\"Purchase\",m(pairs,price_purchase_m),3) ,(\"Fuel\" ,m(pairs , price_fuel_m) , 3)])\n",
    "compose.add_comparisons([[\"Maintenance\", m(pairs , price_maint_m) , 3, \"saaty\"]])\n",
    "compose.add_comparisons([(\"PM\",m(pairs,maint_pm_m),3),(\"CM\",m(pairs,maint_cm_m),3) , (\"TPM\",m(pairs,maint_tpm_m),3)])\n",
    "compose.add_comparisons((mpg,comfort,style))\n",
    "h = {\"Criteria\" : [\"Price\" , \"MPG\" , \"Comfort\" , \"Style\"],\n",
    "     \"Price\" : [\"Purchase\", \"Fuel\",\"Maintenance\"],\n",
    "     \"Maintenance\" : [\"PM\",\"CM\",\"TPM\"]\n",
    "    }\n",
    "compose.add_hierarchy(h)                        \n",
    "\n",
    "print(criteria.target_weights)\n",
    "print(price.local_weights)\n",
    "print(f\"Consistency ratio for price subcriteria = {price.consistency_ratio}\")\n",
    "print(f\"Consistency ratio = {criteria.consistency_ratio}\")\n",
    "print(f\"Consistency ratio for maintenance subcriteria = {maint.consistency_ratio}\")\n"
   ]
  },
  {
   "cell_type": "code",
   "execution_count": null,
   "id": "e553173b",
   "metadata": {},
   "outputs": [],
   "source": []
  }
 ],
 "metadata": {
  "kernelspec": {
   "display_name": "Python 3 (ipykernel)",
   "language": "python",
   "name": "python3"
  },
  "language_info": {
   "codemirror_mode": {
    "name": "ipython",
    "version": 3
   },
   "file_extension": ".py",
   "mimetype": "text/x-python",
   "name": "python",
   "nbconvert_exporter": "python",
   "pygments_lexer": "ipython3",
   "version": "3.9.12"
  }
 },
 "nbformat": 4,
 "nbformat_minor": 5
}
