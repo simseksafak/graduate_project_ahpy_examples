{
 "cells": [
  {
   "cell_type": "code",
   "execution_count": 4,
   "id": "76f55a20",
   "metadata": {},
   "outputs": [],
   "source": [
    "from ahpy import ahpy\n",
    "from ahpy import Compare\n",
    "from ahpy import Compose\n",
    "\n",
    "\n",
    "import numpy as np\n",
    "import pandas as pd \n",
    "\n",
    "import pytest\n",
    "import itertools"
   ]
  },
  {
   "cell_type": "code",
   "execution_count": 18,
   "id": "3824d803",
   "metadata": {},
   "outputs": [
    {
     "name": "stdout",
     "output_type": "stream",
     "text": [
      "{'water': 0.327, 'soda': 0.19, 'coffee': 0.177, 'milk': 0.129, 'beer': 0.116, 'tea': 0.042, 'wine': 0.019}\n",
      "Consistency ratio = 0.022\n"
     ]
    }
   ],
   "source": [
    "# Example from Saaty, Thomas L., 'Decision making with the analytic hierarchy process,'\n",
    "# Int. J. Services Sciences, 1:1, 2008, pp. 83-98.\n",
    "\n",
    "drinks_m = {('coffee', 'wine'): 9, ('coffee', 'tea'): 5, ('coffee', 'beer'): 2, ('coffee', 'soda'): 1,\n",
    "           ('coffee', 'milk'): 1, ('water', 'coffee'): 2, ('tea', 'wine'): 3, ('beer', 'wine'): 9, ('beer', 'tea'): 3,\n",
    "           ('beer', 'milk'): 1, ('soda', 'wine'): 9, ('soda', 'tea'): 4, ('soda', 'beer'): 2, ('soda', 'milk'): 2,\n",
    "           ('milk', 'wine'): 9, ('milk', 'tea'): 3, ('water', 'coffee'): 2, ('water', 'wine'): 9, ('water', 'tea'): 9,\n",
    "           ('water', 'beer'): 3, ('water', 'soda'): 2, ('water', 'milk'): 3}\n",
    "drinks = ahpy.Compare('Drinks', drinks_m, precision=3, random_index='saaty')\n",
    "\n",
    "print(drinks.target_weights)\n",
    "print(f\"Consistency ratio = {drinks.consistency_ratio}\")"
   ]
  },
  {
   "cell_type": "code",
   "execution_count": 16,
   "id": "22c9fe4d",
   "metadata": {},
   "outputs": [
    {
     "name": "stdout",
     "output_type": "stream",
     "text": [
      "{'Price': 0.402, 'Style': 0.301, 'Comfort': 0.214, 'MPG': 0.083}\n",
      "Consistency ratio = 0.069\n"
     ]
    }
   ],
   "source": [
    "# Example from lecture notes\n",
    "\n",
    "car_selection = {(\"Price\" , \"MPG\"): 3 , (\"Price\",\"Comfort\"):2 , (\"Price\" , \"Style\"): 2 , \n",
    "                (\"MPG\",\"Comfort\"): 1/4, (\"MPG\", \"Style\"):1/4 , (\"Comfort\",\"Style\"): 1/2}\n",
    "\n",
    "cars = ahpy.Compare(\"Cars\", car_selection , precision=3  , random_index=\"saaty\")\n",
    "print(cars.target_weights)\n",
    "print(f\"Consistency ratio = {cars.consistency_ratio}\")"
   ]
  },
  {
   "cell_type": "code",
   "execution_count": 52,
   "id": "4246f73f",
   "metadata": {
    "scrolled": true
   },
   "outputs": [
    {
     "name": "stdout",
     "output_type": "stream",
     "text": [
      "{'Price': 0.402, 'Style': 0.301, 'Comfort': 0.214, 'MPG': 0.083}\n",
      "{'Purchase': 0.607, 'Fuel': 0.238, 'Maintanence': 0.155}\n",
      "Consistency ratio for price subcriteria = 0.477\n",
      "Consistency ratio = 0.074\n"
     ]
    }
   ],
   "source": [
    "def m(elements, judgments):\n",
    "     return dict(zip(elements, judgments))\n",
    "\n",
    "\n",
    "cri = ('Price', 'MPG', 'Comfort', 'Style')\n",
    "c_cri = list(itertools.combinations(cri, 2))\n",
    "criteria = ahpy.Compare('Criteria', m(c_cri, (3, 2, 2, 1/4, 1/4, 1/2)), precision = 3)\n",
    "\n",
    "alt = ('Accord', 'Saturn', 'Cavalier')\n",
    "pairs = list(itertools.combinations(alt, 2))\n",
    "\n",
    "price = ('Purchase', 'Fuel' , 'Maintanence')\n",
    "p_pairs = list(itertools.combinations(price, 2))\n",
    "price = ahpy.Compare('Price', m(p_pairs, (5, 2 ,3)),precision=3)\n",
    "         \n",
    "price_purchase_m = (4,3,2)\n",
    "price_purchase = ahpy.Compare(\"Purchase\",m(pairs,price_purchase_m) , 3)\n",
    "\n",
    "price_fuel_m = (3,4,1/2)\n",
    "price_fuel = ahpy.Compare(\"Fuel\",m(pairs , price_fuel_m) , 3)\n",
    "         \n",
    "price_maint_m = (1/2 ,3,4)\n",
    "price_maint = ahpy.Compare(\"Maintanence\", m(pairs , price_maint_m) , 3)\n",
    "         \n",
    "mpg_m = (1/4 , 1/6 , 1/3)\n",
    "mpg = ahpy.Compare(\"MPG\", m(pairs , mpg_m) , 3)\n",
    "        \n",
    "comfort_m = (2,8,6)\n",
    "comfort = ahpy.Compare(\"Comfort\", m(pairs , comfort_m) , 3)\n",
    "         \n",
    "style_m = (1/3 , 4,7)\n",
    "style = ahpy.Compare(\"Style\", m(pairs , style_m) , 3)\n",
    "         \n",
    "         \n",
    "compose = ahpy.Compose()\n",
    "compose.add_comparisons(\"Criteria\" , m(c_cri,(3, 2, 2, 1/4, 1/4, 1/2)) ,3)\n",
    "compose.add_comparisons([price])\n",
    "compose.add_comparisons([price_fuel, price_maint, price_purchase])\n",
    "compose.add_comparisons([(\"Purchase\",m(pairs,price_purchase_m),3) ,(\"Fuel\" ,m(pairs , price_fuel_m) , 3)])\n",
    "compose.add_comparisons([[\"Maintenance\", m(pairs , price_maint_m) , 3, \"saaty\"]])\n",
    "compose.add_comparisons((mpg,comfort,style))\n",
    "h = {\"Criteria\" : [\"Price\" , \"MPG\" , \"Comfort\" , \"Style\"],\n",
    "     \"Price\" : [\"Purchase\", \"Fuel\",\"Maintenance\"]\n",
    "    }\n",
    "compose.add_hierarchy(h)                        \n",
    "\n",
    "print(criteria.target_weights)\n",
    "print(price.local_weights)\n",
    "print(f\"Consistency ratio for price subcriteria = {price.consistency_ratio}\")\n",
    "print(f\"Consistency ratio = {criteria.consistency_ratio}\")\n"
   ]
  },
  {
   "cell_type": "code",
   "execution_count": null,
   "id": "393d38d9",
   "metadata": {},
   "outputs": [],
   "source": []
  },
  {
   "cell_type": "code",
   "execution_count": null,
   "id": "b458b8e4",
   "metadata": {},
   "outputs": [],
   "source": []
  }
 ],
 "metadata": {
  "kernelspec": {
   "display_name": "Python 3 (ipykernel)",
   "language": "python",
   "name": "python3"
  },
  "language_info": {
   "codemirror_mode": {
    "name": "ipython",
    "version": 3
   },
   "file_extension": ".py",
   "mimetype": "text/x-python",
   "name": "python",
   "nbconvert_exporter": "python",
   "pygments_lexer": "ipython3",
   "version": "3.9.12"
  }
 },
 "nbformat": 4,
 "nbformat_minor": 5
}
